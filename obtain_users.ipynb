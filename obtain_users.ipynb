{
 "cells": [
  {
   "cell_type": "code",
   "execution_count": 1,
   "id": "a35f9c1e-8ba3-4ac9-a95c-97beb3b11c27",
   "metadata": {},
   "outputs": [],
   "source": [
    "import tweepy\n",
    "import pandas as pd\n",
    "import os \n",
    "from dotenv import load_dotenv\n",
    "import json\n",
    "import csv\n",
    "import requests"
   ]
  },
  {
   "cell_type": "code",
   "execution_count": 2,
   "id": "3e675d8d-ed17-46f9-875f-11009456c8c6",
   "metadata": {},
   "outputs": [
    {
     "data": {
      "text/plain": [
       "True"
      ]
     },
     "execution_count": 2,
     "metadata": {},
     "output_type": "execute_result"
    }
   ],
   "source": [
    "load_dotenv('apipass', verbose = True)"
   ]
  },
  {
   "cell_type": "code",
   "execution_count": 3,
   "id": "0f3da66f-3edd-4248-8168-6cb47e59812d",
   "metadata": {},
   "outputs": [],
   "source": [
    "endpoint = os.environ.get('TWITTER_API_ENDPOINT')\n",
    "consumer_key = os.environ.get('TWITTER_CONSUMER_KEY')\n",
    "consumer_secret = os.environ.get('TWITTER_CONSUMER_SECRET')\n",
    "bearer_token = os.environ.get('TWITTER_BEARER_TOKEN')"
   ]
  },
  {
   "cell_type": "code",
   "execution_count": 4,
   "id": "f1d770f0-f145-4408-9839-4cd74e495f8f",
   "metadata": {},
   "outputs": [],
   "source": [
    "# authentication\n",
    "#auth = tweepy.OAuthHandler(consumer_key, consumer_secret)\n",
    "#auth.set_access_token(access_token, access_token_secret)"
   ]
  },
  {
   "cell_type": "code",
   "execution_count": 5,
   "id": "34ccf874-1133-4d8c-9e36-dd4349be34b2",
   "metadata": {},
   "outputs": [],
   "source": [
    "# initialization of API\n",
    "#api = tweepy.API(auth)\n",
    "#api"
   ]
  },
  {
   "cell_type": "code",
   "execution_count": 6,
   "id": "2d71b0d2-8bcf-46dd-813e-6b015ce1c909",
   "metadata": {},
   "outputs": [
    {
     "ename": "NameError",
     "evalue": "name 'token_secret' is not defined",
     "output_type": "error",
     "traceback": [
      "\u001b[0;31m---------------------------------------------------------------------------\u001b[0m",
      "\u001b[0;31mNameError\u001b[0m                                 Traceback (most recent call last)",
      "Cell \u001b[0;32mIn [6], line 7\u001b[0m\n\u001b[1;32m      4\u001b[0m client\u001b[38;5;241m=\u001b[39mtweepy\u001b[38;5;241m.\u001b[39mClient(bearer_token\u001b[38;5;241m=\u001b[39m\u001b[38;5;124m'\u001b[39m\u001b[38;5;124m...\u001b[39m\u001b[38;5;124m'\u001b[39m)\n\u001b[1;32m      6\u001b[0m auth \u001b[38;5;241m=\u001b[39m tweepy\u001b[38;5;241m.\u001b[39mOAuthHandler(consumer_key, consumer_secret)\n\u001b[0;32m----> 7\u001b[0m auth\u001b[38;5;241m.\u001b[39mset_access_token(access_token, \u001b[43mtoken_secret\u001b[49m)\n\u001b[1;32m      8\u001b[0m api \u001b[38;5;241m=\u001b[39m tweepy\u001b[38;5;241m.\u001b[39mAPI(auth, wait_on_rate_limit\u001b[38;5;241m=\u001b[39m\u001b[38;5;28;01mTrue\u001b[39;00m)\n",
      "\u001b[0;31mNameError\u001b[0m: name 'token_secret' is not defined"
     ]
    }
   ],
   "source": [
    "consumer_key = \"...\"\n",
    "access_token= \"...\"\n",
    "\n",
    "client=tweepy.Client(bearer_token='...')\n",
    "\n",
    "auth = tweepy.OAuthHandler(consumer_key, consumer_secret)\n",
    "auth.set_access_token(access_token, token_secret)\n",
    "api = tweepy.API(auth, wait_on_rate_limit=True)"
   ]
  },
  {
   "cell_type": "code",
   "execution_count": 16,
   "id": "10164346-3dba-44d5-8bc4-2a645d16bc46",
   "metadata": {},
   "outputs": [],
   "source": [
    "auth = tweepy.Client(bearer_token)\n",
    "api = tweepy.API(auth)"
   ]
  },
  {
   "cell_type": "code",
   "execution_count": 23,
   "id": "62009c60-11f2-487d-a89f-cc47f6a75f7c",
   "metadata": {},
   "outputs": [],
   "source": [
    "# list of variables to retrieve\n",
    "variables = ['id', 'id_str', 'location', \n",
    "             'description', 'url', 'followers_count', \n",
    "             'friends_count', 'listed_count', 'created_at', \n",
    "             'favourites_count', 'verified', 'statuses_count', \n",
    "             'lang', 'status', 'default_profile', 'pinned_tweet_id',\n",
    "             'default_profile_image', 'has_extended_profile', 'name', 'username']"
   ]
  },
  {
   "cell_type": "code",
   "execution_count": 24,
   "id": "6b7160f7-4206-493a-a5c8-a69d19009508",
   "metadata": {},
   "outputs": [],
   "source": [
    "# read input file with usernames\n",
    "usernames = pd.read_csv('authors_metrics2.csv')['author.username'].tolist()"
   ]
  },
  {
   "cell_type": "code",
   "execution_count": 25,
   "id": "8be93c12-dc75-4013-90f6-9fcfbc275329",
   "metadata": {},
   "outputs": [
    {
     "data": {
      "text/plain": [
       "12547"
      ]
     },
     "execution_count": 25,
     "metadata": {},
     "output_type": "execute_result"
    }
   ],
   "source": [
    "len(usernames)"
   ]
  },
  {
   "cell_type": "code",
   "execution_count": 26,
   "id": "3cfb9b1d-2a4d-45ed-999f-88647a961c83",
   "metadata": {},
   "outputs": [],
   "source": [
    "def slice_list(input_list, size):\n",
    "    \"Slice an input list into a specific size and yield shorten lists\"\n",
    "    for i in range(0, len(input_list), size):\n",
    "        output_list = input_list[i:i + size]\n",
    "        yield output_list\n",
    "    return"
   ]
  },
  {
   "cell_type": "code",
   "execution_count": 27,
   "id": "0509dbb7-ac99-4a02-95c9-11b81cc762aa",
   "metadata": {
    "tags": []
   },
   "outputs": [],
   "source": [
    "# list to store results\n",
    "results = []"
   ]
  },
  {
   "cell_type": "code",
   "execution_count": 30,
   "id": "885d10f3-7ada-4c93-9e95-34ccd07c785e",
   "metadata": {
    "tags": []
   },
   "outputs": [],
   "source": [
    "# To set your enviornment variables in your terminal run the following line:\n",
    "# export 'BEARER_TOKEN'='<your_bearer_token>'\n",
    "bearer_token = os.environ.get('TWITTER_BEARER_TOKEN')\n",
    "\n",
    "\n",
    "def create_url(list_100):\n",
    "    # Specify the usernames that you want to lookup below\n",
    "    # You can enter up to 100 comma-separated values.\n",
    "    str_users = ','.join(list_100)\n",
    "    usernames = f\"usernames={str_users}\"\n",
    "    valid_fields = ['created_at', 'description', 'entities', 'id', 'location', 'name',\n",
    "                    'pinned_tweet_id', 'profile_image_url', 'protected', 'public_metrics',\n",
    "                    'url', 'username', 'verified', 'verified_type', 'withheld']\n",
    "    user_fields = \"user.fields=\" + \",\".join(valid_fields)\n",
    "    # User fields are adjustable, options include:\n",
    "    # created_at, description, entities, id, location, name,\n",
    "    # pinned_tweet_id, profile_image_url, protected,\n",
    "    # public_metrics, url, username, verified, and withheld\n",
    "    url = \"https://api.twitter.com/2/users/by?{}&{}\".format(usernames, user_fields)\n",
    "    return url\n",
    "\n",
    "\n",
    "def bearer_oauth(r):\n",
    "    \"\"\"\n",
    "    Method required by bearer token authentication.\n",
    "    \"\"\"\n",
    "\n",
    "    r.headers[\"Authorization\"] = f\"Bearer {bearer_token}\"\n",
    "    r.headers[\"User-Agent\"] = \"v2UserLookupPython\"\n",
    "    return r\n",
    "\n",
    "#### \n",
    "def connect_to_endpoint(url):\n",
    "    response = requests.request(\"GET\", url, auth=bearer_oauth,)\n",
    "    print(response.status_code)\n",
    "    if response.status_code != 200:\n",
    "        raise Exception(\n",
    "            \"Request returned an error: {} {}\".format(\n",
    "                response.status_code, response.text\n",
    "            )\n",
    "        )\n",
    "    return response.json()\n",
    "\n",
    "#### remove the break transform print into create json (when it works)\n"
   ]
  },
  {
   "cell_type": "code",
   "execution_count": 31,
   "id": "d9dab996-2eac-458d-90cc-56ddbf36833a",
   "metadata": {
    "tags": []
   },
   "outputs": [
    {
     "name": "stdout",
     "output_type": "stream",
     "text": [
      "200\n",
      "200\n"
     ]
    }
   ],
   "source": [
    "n = 0\n",
    "usernameslist = []\n",
    "for list_100 in slice_list(usernames, 100):\n",
    "    url = create_url(list_100)\n",
    "    json_response = connect_to_endpoint(url)\n",
    "    for user in json_response['data']:\n",
    "        user_info = {\n",
    "            'username': user['username'],\n",
    "            'followers_count': user['public_metrics']['followers_count'],\n",
    "            'friends_count': user['public_metrics']['following_count']\n",
    "        }\n",
    "        usernameslist.append(user_info)\n",
    "    #usernameslist.append(json.dumps(json_response, indent=4, sort_keys=True))\n",
    "    usernameslist.append(json_response)\n",
    "    n += 1\n",
    "    if n == 2:\n",
    "        break\n",
    "   "
   ]
  },
  {
   "cell_type": "code",
   "execution_count": null,
   "id": "20f64f11-e3fd-453c-b1ac-b2f1cda3f23a",
   "metadata": {
    "tags": []
   },
   "outputs": [],
   "source": [
    "usernameslist"
   ]
  },
  {
   "cell_type": "code",
   "execution_count": null,
   "id": "b748c902-2bfd-4e67-89e8-7234048d2053",
   "metadata": {},
   "outputs": [],
   "source": [
    "with open('output.json', 'w') as f:\n",
    "    json.dump(usernameslist, f)"
   ]
  },
  {
   "cell_type": "code",
   "execution_count": null,
   "id": "0f3fae75-e3e7-45d2-a0ec-89cc1cf8ffed",
   "metadata": {},
   "outputs": [],
   "source": [
    "#save json list \n",
    "#then change the variables, retry running and run without the break\n"
   ]
  },
  {
   "cell_type": "code",
   "execution_count": null,
   "id": "a71d9c4a-00dc-4879-8a54-7aa3bce43e9c",
   "metadata": {},
   "outputs": [],
   "source": [
    "#output_json"
   ]
  },
  {
   "cell_type": "code",
   "execution_count": null,
   "id": "61b28fd7-8c76-4a2b-a187-701c69003dc1",
   "metadata": {},
   "outputs": [],
   "source": [
    "dfjson['public_metrics']"
   ]
  },
  {
   "cell_type": "code",
   "execution_count": null,
   "id": "fa33a1f4-d374-4473-9afe-2d0ab4aa017d",
   "metadata": {
    "tags": []
   },
   "outputs": [],
   "source": [
    "# create new columns for each metric\n",
    "\n",
    "dfjson['followers_count'] = dfjson['public_metrics'].apply(lambda x: x['followers_count'])\n",
    "dfjson['following_count'] = dfjson['public_metrics'].apply(lambda x: x['following_count'])\n",
    "dfjson['tweet_count'] = dfjson['public_metrics'].apply(lambda x: x['tweet_count'])\n",
    "dfjson['listed_count'] = dfjson['public_metrics'].apply(lambda x: x['listed_count'])\n",
    "\n",
    "# drop the original column\n",
    "dfjson.drop(columns=['public_metrics'], inplace=True)\n"
   ]
  },
  {
   "cell_type": "code",
   "execution_count": null,
   "id": "ad3b22a0-cb28-4a07-9494-47cb19c48f8c",
   "metadata": {},
   "outputs": [],
   "source": [
    "dfjson.columns"
   ]
  },
  {
   "cell_type": "code",
   "execution_count": null,
   "id": "38ef9718-ccfd-496b-ac90-c358f07790fc",
   "metadata": {},
   "outputs": [],
   "source": [
    "dfjson.to_csv('output.csv', index=False)"
   ]
  },
  {
   "cell_type": "code",
   "execution_count": null,
   "id": "f7fd59be-f021-416d-9963-bd44d1a04ead",
   "metadata": {},
   "outputs": [],
   "source": []
  }
 ],
 "metadata": {
  "kernelspec": {
   "display_name": "Python 3 (ipykernel)",
   "language": "python",
   "name": "python3"
  },
  "language_info": {
   "codemirror_mode": {
    "name": "ipython",
    "version": 3
   },
   "file_extension": ".py",
   "mimetype": "text/x-python",
   "name": "python",
   "nbconvert_exporter": "python",
   "pygments_lexer": "ipython3",
   "version": "3.10.6"
  }
 },
 "nbformat": 4,
 "nbformat_minor": 5
}
