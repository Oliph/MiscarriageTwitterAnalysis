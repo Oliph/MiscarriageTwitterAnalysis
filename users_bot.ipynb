{
 "cells": [
  {
   "cell_type": "code",
   "execution_count": null,
   "id": "a35f9c1e-8ba3-4ac9-a95c-97beb3b11c27",
   "metadata": {},
   "outputs": [],
   "source": [
    "import tweepy\n",
    "import pandas as pd"
   ]
  },
  {
   "cell_type": "code",
   "execution_count": null,
   "id": "845f201d-8312-40e3-90df-911f0297433c",
   "metadata": {},
   "outputs": [],
   "source": [
    "# Twitter credentials (you can generate them here too) https://developer.twitter.com/en/docs/twitter-api/getting-started/about-twitter-api\n",
    "consumer_key = 'your_consumer_key'\n",
    "consumer_secret = 'your_consumer_secret'\n",
    "access_token = 'your_access_token'\n",
    "access_token_secret = 'your_access_token_secret'"
   ]
  },
  {
   "cell_type": "code",
   "execution_count": null,
   "id": "f1d770f0-f145-4408-9839-4cd74e495f8f",
   "metadata": {},
   "outputs": [],
   "source": [
    "# authentication\n",
    "auth = tweepy.OAuthHandler(consumer_key, consumer_secret)\n",
    "auth.set_access_token(access_token, access_token_secret)"
   ]
  },
  {
   "cell_type": "code",
   "execution_count": null,
   "id": "34ccf874-1133-4d8c-9e36-dd4349be34b2",
   "metadata": {},
   "outputs": [],
   "source": [
    "# initialization of API\n",
    "api = tweepy.API(auth)"
   ]
  },
  {
   "cell_type": "code",
   "execution_count": null,
   "id": "62009c60-11f2-487d-a89f-cc47f6a75f7c",
   "metadata": {},
   "outputs": [],
   "source": [
    "# list of variables to retrieve\n",
    "variables = ['id', 'id_str', 'screen_name', 'location', \n",
    "             'description', 'url', 'followers_count', \n",
    "             'friends_count', 'listed_count', 'created_at', \n",
    "             'favourites_count', 'verified', 'statuses_count', \n",
    "             'lang', 'status', 'default_profile', \n",
    "             'default_profile_image', 'has_extended_profile', 'name', \n",
    "             'bot', 'screen_name_binary', 'name_binary', 'description_binary', \n",
    "             'status_binary', 'listed_count_binary']"
   ]
  },
  {
   "cell_type": "code",
   "execution_count": null,
   "id": "6b7160f7-4206-493a-a5c8-a69d19009508",
   "metadata": {},
   "outputs": [],
   "source": [
    "# read input file with usernames\n",
    "usernames = pd.read_csv('authors_metrics.csv')['author.username'].tolist()"
   ]
  },
  {
   "cell_type": "code",
   "execution_count": null,
   "id": "0509dbb7-ac99-4a02-95c9-11b81cc762aa",
   "metadata": {},
   "outputs": [],
   "source": [
    "# list to store results\n",
    "results = []"
   ]
  },
  {
   "cell_type": "code",
   "execution_count": null,
   "id": "9861b902-0c5a-4d41-8700-3f58d92e94a1",
   "metadata": {},
   "outputs": [],
   "source": [
    "# loop through each username and retrieve their information\n",
    "for username in usernames:\n",
    "    try:\n",
    "        user = api.get_user(username)\n",
    "        result = [getattr(user, var) for var in variables]\n",
    "        results.append(result)\n",
    "    except tweepy.TweepError:\n",
    "        print(f\"Failed to retrieve data for user: {username}\")"
   ]
  },
  {
   "cell_type": "code",
   "execution_count": null,
   "id": "087753e6-8ebc-4fce-831e-a144871c71ed",
   "metadata": {},
   "outputs": [],
   "source": [
    "# create DataFrame with results and variables as column names\n",
    "df = pd.DataFrame(results, columns=variables)"
   ]
  },
  {
   "cell_type": "code",
   "execution_count": null,
   "id": "b8a17179-b940-4b23-b028-d8df664fef10",
   "metadata": {},
   "outputs": [],
   "source": [
    "# calculate friends by followers ratio\n",
    "df['friends_by_followers'] = df['friends_count'] / df['followers_count']"
   ]
  },
  {
   "cell_type": "code",
   "execution_count": null,
   "id": "c51ffbc9-ca73-4a86-a433-62948a0bf249",
   "metadata": {},
   "outputs": [],
   "source": [
    "# save to output CSV file\n",
    "df.to_csv('user_data.csv', index=False)"
   ]
  }
 ],
 "metadata": {
  "kernelspec": {
   "display_name": "Python 3 (ipykernel)",
   "language": "python",
   "name": "python3"
  },
  "language_info": {
   "codemirror_mode": {
    "name": "ipython",
    "version": 3
   },
   "file_extension": ".py",
   "mimetype": "text/x-python",
   "name": "python",
   "nbconvert_exporter": "python",
   "pygments_lexer": "ipython3",
   "version": "3.10.6"
  }
 },
 "nbformat": 4,
 "nbformat_minor": 5
}
